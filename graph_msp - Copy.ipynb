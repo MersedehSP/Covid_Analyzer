{
 "cells": [
  {
   "cell_type": "code",
   "execution_count": 1,
   "metadata": {},
   "outputs": [],
   "source": [
    "#import dependencies and set-up\n",
    "import pandas as pd\n",
    "import matplotlib.pyplot as plt\n",
    "import csv\n",
    "import os\n",
    "from scipy.stats import linregress\n",
    "import scipy.stats as st\n",
    "import gmaps\n",
    "import gmaps.datasets\n"
   ]
  },
  {
   "cell_type": "code",
   "execution_count": 2,
   "metadata": {},
   "outputs": [
    {
     "data": {
      "text/html": [
       "<div>\n",
       "<style scoped>\n",
       "    .dataframe tbody tr th:only-of-type {\n",
       "        vertical-align: middle;\n",
       "    }\n",
       "\n",
       "    .dataframe tbody tr th {\n",
       "        vertical-align: top;\n",
       "    }\n",
       "\n",
       "    .dataframe thead th {\n",
       "        text-align: right;\n",
       "    }\n",
       "</style>\n",
       "<table border=\"1\" class=\"dataframe\">\n",
       "  <thead>\n",
       "    <tr style=\"text-align: right;\">\n",
       "      <th></th>\n",
       "      <th>Date</th>\n",
       "      <th>Month Abbr</th>\n",
       "      <th>State</th>\n",
       "      <th>Number of Flights</th>\n",
       "      <th>Positive</th>\n",
       "      <th>Deaths</th>\n",
       "      <th>Total Tested</th>\n",
       "    </tr>\n",
       "  </thead>\n",
       "  <tbody>\n",
       "    <tr>\n",
       "      <th>0</th>\n",
       "      <td>2020-08-24</td>\n",
       "      <td>Aug</td>\n",
       "      <td>Arizona</td>\n",
       "      <td>494</td>\n",
       "      <td>198414</td>\n",
       "      <td>4771</td>\n",
       "      <td>1155629</td>\n",
       "    </tr>\n",
       "    <tr>\n",
       "      <th>1</th>\n",
       "      <td>2020-08-24</td>\n",
       "      <td>Aug</td>\n",
       "      <td>California</td>\n",
       "      <td>1998</td>\n",
       "      <td>668615</td>\n",
       "      <td>12152</td>\n",
       "      <td>10652487</td>\n",
       "    </tr>\n",
       "    <tr>\n",
       "      <th>2</th>\n",
       "      <td>2020-08-24</td>\n",
       "      <td>Aug</td>\n",
       "      <td>Colorado</td>\n",
       "      <td>941</td>\n",
       "      <td>55143</td>\n",
       "      <td>1815</td>\n",
       "      <td>938596</td>\n",
       "    </tr>\n",
       "    <tr>\n",
       "      <th>3</th>\n",
       "      <td>2020-08-24</td>\n",
       "      <td>Aug</td>\n",
       "      <td>Florida</td>\n",
       "      <td>917</td>\n",
       "      <td>602829</td>\n",
       "      <td>10534</td>\n",
       "      <td>4447156</td>\n",
       "    </tr>\n",
       "    <tr>\n",
       "      <th>4</th>\n",
       "      <td>2020-08-24</td>\n",
       "      <td>Aug</td>\n",
       "      <td>Georgia</td>\n",
       "      <td>2166</td>\n",
       "      <td>256253</td>\n",
       "      <td>5156</td>\n",
       "      <td>2205181</td>\n",
       "    </tr>\n",
       "    <tr>\n",
       "      <th>...</th>\n",
       "      <td>...</td>\n",
       "      <td>...</td>\n",
       "      <td>...</td>\n",
       "      <td>...</td>\n",
       "      <td>...</td>\n",
       "      <td>...</td>\n",
       "      <td>...</td>\n",
       "    </tr>\n",
       "    <tr>\n",
       "      <th>1135</th>\n",
       "      <td>2020-10-22</td>\n",
       "      <td>Oct</td>\n",
       "      <td>Pennsylvania</td>\n",
       "      <td>274</td>\n",
       "      <td>188360</td>\n",
       "      <td>8592</td>\n",
       "      <td>2373439</td>\n",
       "    </tr>\n",
       "    <tr>\n",
       "      <th>1136</th>\n",
       "      <td>2020-10-22</td>\n",
       "      <td>Oct</td>\n",
       "      <td>Texas</td>\n",
       "      <td>2067</td>\n",
       "      <td>845100</td>\n",
       "      <td>17286</td>\n",
       "      <td>7532717</td>\n",
       "    </tr>\n",
       "    <tr>\n",
       "      <th>1137</th>\n",
       "      <td>2020-10-22</td>\n",
       "      <td>Oct</td>\n",
       "      <td>Utah</td>\n",
       "      <td>297</td>\n",
       "      <td>99549</td>\n",
       "      <td>563</td>\n",
       "      <td>1004286</td>\n",
       "    </tr>\n",
       "    <tr>\n",
       "      <th>1138</th>\n",
       "      <td>2020-10-22</td>\n",
       "      <td>Oct</td>\n",
       "      <td>Virginia</td>\n",
       "      <td>396</td>\n",
       "      <td>170104</td>\n",
       "      <td>3524</td>\n",
       "      <td>2451698</td>\n",
       "    </tr>\n",
       "    <tr>\n",
       "      <th>1139</th>\n",
       "      <td>2020-10-22</td>\n",
       "      <td>Oct</td>\n",
       "      <td>Washington</td>\n",
       "      <td>474</td>\n",
       "      <td>99874</td>\n",
       "      <td>2286</td>\n",
       "      <td>2276453</td>\n",
       "    </tr>\n",
       "  </tbody>\n",
       "</table>\n",
       "<p>1140 rows × 7 columns</p>\n",
       "</div>"
      ],
      "text/plain": [
       "            Date Month Abbr         State  Number of Flights  Positive  \\\n",
       "0     2020-08-24        Aug       Arizona                494    198414   \n",
       "1     2020-08-24        Aug    California               1998    668615   \n",
       "2     2020-08-24        Aug      Colorado                941     55143   \n",
       "3     2020-08-24        Aug       Florida                917    602829   \n",
       "4     2020-08-24        Aug       Georgia               2166    256253   \n",
       "...          ...        ...           ...                ...       ...   \n",
       "1135  2020-10-22        Oct  Pennsylvania                274    188360   \n",
       "1136  2020-10-22        Oct         Texas               2067    845100   \n",
       "1137  2020-10-22        Oct          Utah                297     99549   \n",
       "1138  2020-10-22        Oct      Virginia                396    170104   \n",
       "1139  2020-10-22        Oct    Washington                474     99874   \n",
       "\n",
       "      Deaths  Total Tested  \n",
       "0       4771       1155629  \n",
       "1      12152      10652487  \n",
       "2       1815        938596  \n",
       "3      10534       4447156  \n",
       "4       5156       2205181  \n",
       "...      ...           ...  \n",
       "1135    8592       2373439  \n",
       "1136   17286       7532717  \n",
       "1137     563       1004286  \n",
       "1138    3524       2451698  \n",
       "1139    2286       2276453  \n",
       "\n",
       "[1140 rows x 7 columns]"
      ]
     },
     "execution_count": 2,
     "metadata": {},
     "output_type": "execute_result"
    }
   ],
   "source": [
    "corrected_data_path = \"Resources3/FullDataSet.csv\"\n",
    "\n",
    "corrected_data_df = pd.read_csv(corrected_data_path)\n",
    "corrected_data_df"
   ]
  },
  {
   "cell_type": "code",
   "execution_count": 3,
   "metadata": {},
   "outputs": [
    {
     "data": {
      "text/plain": [
       "Text(0, 0.5, 'Counts')"
      ]
     },
     "execution_count": 3,
     "metadata": {},
     "output_type": "execute_result"
    },
    {
     "data": {
      "image/png": "[encoded data removed]",
      "text/plain": [
       "<Figure size 1440x360 with 1 Axes>"
      ]
     },
     "metadata": {
      "needs_background": "light"
     },
     "output_type": "display_data"
    }
   ],
   "source": [
    "#total number of datapoint per state (to check the number of data points are fairly simimral )\n",
    "state_gb = corrected_data_df.groupby([\"State\"])\n",
    "count_st = state_gb.count()[\"Total Tested\"]\n",
    "count_chart= count_st.plot(kind= \"bar\", figsize=(20,5))\n",
    "plt.title(\"State datapoint count\")\n",
    "count_chart.set_ylabel(\"Counts\")\n"
   ]
  },
  {
   "cell_type": "code",
   "execution_count": 4,
   "metadata": {},
   "outputs": [
    {
     "data": {
      "image/png": "[encoded data removed]",
      "text/plain": [
       "<Figure size 1440x360 with 1 Axes>"
      ]
     },
     "metadata": {
      "needs_background": "light"
     },
     "output_type": "display_data"
    }
   ],
   "source": [
    "#total number of infected people per state in a year\n",
    "state_gb = corrected_data_df.groupby([\"State\"])\n",
    "state_count = state_gb.sum()[\"Total Tested\"]\n",
    "state_count.head(12)\n",
    "count_chart = state_count.plot(kind = \"bar\", figsize= (20,5))\n",
    "plt.show()"
   ]
  },
  {
   "cell_type": "code",
   "execution_count": 5,
   "metadata": {},
   "outputs": [
    {
     "data": {
      "text/html": [
       "<div>\n",
       "<style scoped>\n",
       "    .dataframe tbody tr th:only-of-type {\n",
       "        vertical-align: middle;\n",
       "    }\n",
       "\n",
       "    .dataframe tbody tr th {\n",
       "        vertical-align: top;\n",
       "    }\n",
       "\n",
       "    .dataframe thead th {\n",
       "        text-align: right;\n",
       "    }\n",
       "</style>\n",
       "<table border=\"1\" class=\"dataframe\">\n",
       "  <thead>\n",
       "    <tr style=\"text-align: right;\">\n",
       "      <th></th>\n",
       "      <th></th>\n",
       "      <th>Number of Flights</th>\n",
       "      <th>Positive</th>\n",
       "      <th>Deaths</th>\n",
       "      <th>Total Tested</th>\n",
       "    </tr>\n",
       "    <tr>\n",
       "      <th>State</th>\n",
       "      <th>Month Abbr</th>\n",
       "      <th></th>\n",
       "      <th></th>\n",
       "      <th></th>\n",
       "      <th></th>\n",
       "    </tr>\n",
       "  </thead>\n",
       "  <tbody>\n",
       "    <tr>\n",
       "      <th rowspan=\"3\" valign=\"top\">Arizona</th>\n",
       "      <th>Aug</th>\n",
       "      <td>3761</td>\n",
       "      <td>1602726</td>\n",
       "      <td>39432</td>\n",
       "      <td>9428310</td>\n",
       "    </tr>\n",
       "    <tr>\n",
       "      <th>Oct</th>\n",
       "      <td>10715</td>\n",
       "      <td>4977569</td>\n",
       "      <td>126862</td>\n",
       "      <td>34483635</td>\n",
       "    </tr>\n",
       "    <tr>\n",
       "      <th>Sep</th>\n",
       "      <td>13015</td>\n",
       "      <td>6319710</td>\n",
       "      <td>161364</td>\n",
       "      <td>39968537</td>\n",
       "    </tr>\n",
       "    <tr>\n",
       "      <th rowspan=\"3\" valign=\"top\">California</th>\n",
       "      <th>Aug</th>\n",
       "      <td>15458</td>\n",
       "      <td>5491029</td>\n",
       "      <td>100728</td>\n",
       "      <td>87891566</td>\n",
       "    </tr>\n",
       "    <tr>\n",
       "      <th>Oct</th>\n",
       "      <td>39250</td>\n",
       "      <td>18635891</td>\n",
       "      <td>363874</td>\n",
       "      <td>353996307</td>\n",
       "    </tr>\n",
       "    <tr>\n",
       "      <th>Sep</th>\n",
       "      <td>53132</td>\n",
       "      <td>22856989</td>\n",
       "      <td>435369</td>\n",
       "      <td>390874484</td>\n",
       "    </tr>\n",
       "    <tr>\n",
       "      <th rowspan=\"3\" valign=\"top\">Colorado</th>\n",
       "      <th>Aug</th>\n",
       "      <td>6976</td>\n",
       "      <td>449657</td>\n",
       "      <td>14664</td>\n",
       "      <td>7761001</td>\n",
       "    </tr>\n",
       "    <tr>\n",
       "      <th>Oct</th>\n",
       "      <td>18915</td>\n",
       "      <td>1727963</td>\n",
       "      <td>44122</td>\n",
       "      <td>34039627</td>\n",
       "    </tr>\n",
       "    <tr>\n",
       "      <th>Sep</th>\n",
       "      <td>22788</td>\n",
       "      <td>1883372</td>\n",
       "      <td>56958</td>\n",
       "      <td>34568618</td>\n",
       "    </tr>\n",
       "    <tr>\n",
       "      <th rowspan=\"3\" valign=\"top\">Florida</th>\n",
       "      <th>Aug</th>\n",
       "      <td>7104</td>\n",
       "      <td>4908910</td>\n",
       "      <td>88076</td>\n",
       "      <td>36261897</td>\n",
       "    </tr>\n",
       "    <tr>\n",
       "      <th>Oct</th>\n",
       "      <td>20875</td>\n",
       "      <td>16193977</td>\n",
       "      <td>342127</td>\n",
       "      <td>122450042</td>\n",
       "    </tr>\n",
       "    <tr>\n",
       "      <th>Sep</th>\n",
       "      <td>23950</td>\n",
       "      <td>20108476</td>\n",
       "      <td>390532</td>\n",
       "      <td>149613628</td>\n",
       "    </tr>\n",
       "    <tr>\n",
       "      <th rowspan=\"3\" valign=\"top\">Georgia</th>\n",
       "      <th>Aug</th>\n",
       "      <td>15694</td>\n",
       "      <td>2110845</td>\n",
       "      <td>43405</td>\n",
       "      <td>18224056</td>\n",
       "    </tr>\n",
       "    <tr>\n",
       "      <th>Oct</th>\n",
       "      <td>46489</td>\n",
       "      <td>7303564</td>\n",
       "      <td>162976</td>\n",
       "      <td>69513132</td>\n",
       "    </tr>\n",
       "    <tr>\n",
       "      <th>Sep</th>\n",
       "      <td>57426</td>\n",
       "      <td>8925277</td>\n",
       "      <td>192621</td>\n",
       "      <td>79647001</td>\n",
       "    </tr>\n",
       "  </tbody>\n",
       "</table>\n",
       "</div>"
      ],
      "text/plain": [
       "                       Number of Flights  Positive  Deaths  Total Tested\n",
       "State      Month Abbr                                                   \n",
       "Arizona    Aug                      3761   1602726   39432       9428310\n",
       "           Oct                     10715   4977569  126862      34483635\n",
       "           Sep                     13015   6319710  161364      39968537\n",
       "California Aug                     15458   5491029  100728      87891566\n",
       "           Oct                     39250  18635891  363874     353996307\n",
       "           Sep                     53132  22856989  435369     390874484\n",
       "Colorado   Aug                      6976    449657   14664       7761001\n",
       "           Oct                     18915   1727963   44122      34039627\n",
       "           Sep                     22788   1883372   56958      34568618\n",
       "Florida    Aug                      7104   4908910   88076      36261897\n",
       "           Oct                     20875  16193977  342127     122450042\n",
       "           Sep                     23950  20108476  390532     149613628\n",
       "Georgia    Aug                     15694   2110845   43405      18224056\n",
       "           Oct                     46489   7303564  162976      69513132\n",
       "           Sep                     57426   8925277  192621      79647001"
      ]
     },
     "execution_count": 5,
     "metadata": {},
     "output_type": "execute_result"
    }
   ],
   "source": [
    "infected_groups = corrected_data_df.groupby([\"State\", \"Month Abbr\"])\n",
    "sum_it_up = infected_groups.sum()\n",
    "sum_it_up.head(15)"
   ]
  },
  {
   "cell_type": "code",
   "execution_count": 7,
   "metadata": {},
   "outputs": [
    {
     "name": "stdout",
     "output_type": "stream",
     "text": [
      "what state?California\n"
     ]
    },
    {
     "data": {
      "image/png": "[encoded data removed]",
      "text/plain": [
       "<Figure size 720x720 with 1 Axes>"
      ]
     },
     "metadata": {},
     "output_type": "display_data"
    }
   ],
   "source": [
    "#just one state monthly\n",
    "\n",
    "state_name = input(\"what state?\")\n",
    "#state_code = \"CA\"\n",
    "just_one_state = sum_it_up.loc[state_name]\n",
    "state_pie = just_one_state.plot(kind =\"pie\", y= \"Total Tested\", title= (\"infected people in \" + state_name), figsize= (10,10))\n",
    "state_pie.set_ylabel(\"Total Tested\")\n",
    "\n",
    "plt.show()\n",
    "#plt.axis(\"equal\")"
   ]
  },
  {
   "cell_type": "code",
   "execution_count": null,
   "metadata": {},
   "outputs": [],
   "source": []
  },
  {
   "cell_type": "code",
   "execution_count": 8,
   "metadata": {},
   "outputs": [
    {
     "data": {
      "text/plain": [
       "<bound method NDFrame.head of             Total Tested\n",
       "Month Abbr              \n",
       "Aug            444584624\n",
       "Oct           1823406585\n",
       "Sep           1983734649>"
      ]
     },
     "execution_count": 8,
     "metadata": {},
     "output_type": "execute_result"
    }
   ],
   "source": [
    "reduced_data = corrected_data_df[[\"State\", \"Month Abbr\", \"Total Tested\"]]\n",
    "reduced_data\n",
    "month_list = reduced_data[\"Month Abbr\"].unique()\n",
    "month_list\n",
    "state_list = reduced_data[\"State\"].unique()\n",
    "state_list\n",
    "month_gb = reduced_data.groupby([\"Month Abbr\"])\n",
    "sum_month = month_gb.sum()\n",
    "sum_month.head"
   ]
  },
  {
   "cell_type": "code",
   "execution_count": 9,
   "metadata": {},
   "outputs": [
    {
     "data": {
      "text/html": [
       "<div>\n",
       "<style scoped>\n",
       "    .dataframe tbody tr th:only-of-type {\n",
       "        vertical-align: middle;\n",
       "    }\n",
       "\n",
       "    .dataframe tbody tr th {\n",
       "        vertical-align: top;\n",
       "    }\n",
       "\n",
       "    .dataframe thead th {\n",
       "        text-align: right;\n",
       "    }\n",
       "</style>\n",
       "<table border=\"1\" class=\"dataframe\">\n",
       "  <thead>\n",
       "    <tr style=\"text-align: right;\">\n",
       "      <th></th>\n",
       "      <th>State</th>\n",
       "      <th>Month Abbr</th>\n",
       "      <th>Total Tested</th>\n",
       "    </tr>\n",
       "  </thead>\n",
       "  <tbody>\n",
       "    <tr>\n",
       "      <th>0</th>\n",
       "      <td>Arizona</td>\n",
       "      <td>Aug</td>\n",
       "      <td>1155629</td>\n",
       "    </tr>\n",
       "    <tr>\n",
       "      <th>1</th>\n",
       "      <td>California</td>\n",
       "      <td>Aug</td>\n",
       "      <td>10652487</td>\n",
       "    </tr>\n",
       "    <tr>\n",
       "      <th>2</th>\n",
       "      <td>Colorado</td>\n",
       "      <td>Aug</td>\n",
       "      <td>938596</td>\n",
       "    </tr>\n",
       "    <tr>\n",
       "      <th>3</th>\n",
       "      <td>Florida</td>\n",
       "      <td>Aug</td>\n",
       "      <td>4447156</td>\n",
       "    </tr>\n",
       "    <tr>\n",
       "      <th>4</th>\n",
       "      <td>Georgia</td>\n",
       "      <td>Aug</td>\n",
       "      <td>2205181</td>\n",
       "    </tr>\n",
       "    <tr>\n",
       "      <th>...</th>\n",
       "      <td>...</td>\n",
       "      <td>...</td>\n",
       "      <td>...</td>\n",
       "    </tr>\n",
       "    <tr>\n",
       "      <th>1135</th>\n",
       "      <td>Pennsylvania</td>\n",
       "      <td>Oct</td>\n",
       "      <td>2373439</td>\n",
       "    </tr>\n",
       "    <tr>\n",
       "      <th>1136</th>\n",
       "      <td>Texas</td>\n",
       "      <td>Oct</td>\n",
       "      <td>7532717</td>\n",
       "    </tr>\n",
       "    <tr>\n",
       "      <th>1137</th>\n",
       "      <td>Utah</td>\n",
       "      <td>Oct</td>\n",
       "      <td>1004286</td>\n",
       "    </tr>\n",
       "    <tr>\n",
       "      <th>1138</th>\n",
       "      <td>Virginia</td>\n",
       "      <td>Oct</td>\n",
       "      <td>2451698</td>\n",
       "    </tr>\n",
       "    <tr>\n",
       "      <th>1139</th>\n",
       "      <td>Washington</td>\n",
       "      <td>Oct</td>\n",
       "      <td>2276453</td>\n",
       "    </tr>\n",
       "  </tbody>\n",
       "</table>\n",
       "<p>1140 rows × 3 columns</p>\n",
       "</div>"
      ],
      "text/plain": [
       "             State Month Abbr  Total Tested\n",
       "0          Arizona        Aug       1155629\n",
       "1       California        Aug      10652487\n",
       "2         Colorado        Aug        938596\n",
       "3          Florida        Aug       4447156\n",
       "4          Georgia        Aug       2205181\n",
       "...            ...        ...           ...\n",
       "1135  Pennsylvania        Oct       2373439\n",
       "1136         Texas        Oct       7532717\n",
       "1137          Utah        Oct       1004286\n",
       "1138      Virginia        Oct       2451698\n",
       "1139    Washington        Oct       2276453\n",
       "\n",
       "[1140 rows x 3 columns]"
      ]
     },
     "execution_count": 9,
     "metadata": {},
     "output_type": "execute_result"
    }
   ],
   "source": [
    "#which month has the highest number of infected people\n",
    "reduced_data\n"
   ]
  },
  {
   "cell_type": "code",
   "execution_count": 17,
   "metadata": {},
   "outputs": [
    {
     "data": {
      "text/html": [
       "<div>\n",
       "<style scoped>\n",
       "    .dataframe tbody tr th:only-of-type {\n",
       "        vertical-align: middle;\n",
       "    }\n",
       "\n",
       "    .dataframe tbody tr th {\n",
       "        vertical-align: top;\n",
       "    }\n",
       "\n",
       "    .dataframe thead th {\n",
       "        text-align: right;\n",
       "    }\n",
       "</style>\n",
       "<table border=\"1\" class=\"dataframe\">\n",
       "  <thead>\n",
       "    <tr style=\"text-align: right;\">\n",
       "      <th></th>\n",
       "      <th></th>\n",
       "      <th>infected</th>\n",
       "    </tr>\n",
       "    <tr>\n",
       "      <th>state</th>\n",
       "      <th>infected</th>\n",
       "      <th></th>\n",
       "    </tr>\n",
       "  </thead>\n",
       "  <tbody>\n",
       "    <tr>\n",
       "      <th>MP</th>\n",
       "      <th>13</th>\n",
       "      <td>13</td>\n",
       "    </tr>\n",
       "  </tbody>\n",
       "</table>\n",
       "</div>"
      ],
      "text/plain": [
       "                infected\n",
       "state infected          \n",
       "MP    13              13"
      ]
     },
     "execution_count": 17,
     "metadata": {},
     "output_type": "execute_result"
    }
   ],
   "source": [
    "#not working ?????????????????????????\n",
    "for state in state_list:\n",
    "    for month in month_list:\n",
    "    \n",
    "        state_data = reduced_data[( reduced_data[\"state\"] == state)& (reduced_data[\"month\"]== month)]\n",
    "        state_data_gb = state_data.groupby([\"state\", \"infected\"])\n",
    "\n",
    "        state_data_df = state_data_gb[\"infected\"].sum().to_frame()\n",
    "state_data_df.head(10)\n",
    "        #state_data_index= state_data_df.unstack(0)\n",
    "        #state_data_plot = state_data_index[\"infected\"]\n",
    "########### \n",
    "\n",
    "        #plt.figure()\n",
    "\n",
    "\n",
    "        #plot_cap, = plt.plot(state_list, state_data_plot[\"CA\"])"
   ]
  },
  {
   "cell_type": "code",
   "execution_count": 24,
   "metadata": {},
   "outputs": [
    {
     "ename": "AttributeError",
     "evalue": "'Series' object has no attribute 'month'",
     "output_type": "error",
     "traceback": [
      "\u001b[1;31m---------------------------------------------------------------------------\u001b[0m",
      "\u001b[1;31mAttributeError\u001b[0m                            Traceback (most recent call last)",
      "\u001b[1;32m<ipython-input-24-92c30009e6be>\u001b[0m in \u001b[0;36m<module>\u001b[1;34m\u001b[0m\n\u001b[0;32m      9\u001b[0m \u001b[0mmonth_num\u001b[0m \u001b[1;33m=\u001b[0m \u001b[1;33m[\u001b[0m\u001b[1;36m1\u001b[0m\u001b[1;33m,\u001b[0m\u001b[1;36m2\u001b[0m\u001b[1;33m,\u001b[0m\u001b[1;36m3\u001b[0m\u001b[1;33m,\u001b[0m\u001b[1;36m4\u001b[0m\u001b[1;33m,\u001b[0m\u001b[1;36m5\u001b[0m\u001b[1;33m,\u001b[0m\u001b[1;36m6\u001b[0m\u001b[1;33m,\u001b[0m\u001b[1;36m7\u001b[0m\u001b[1;33m,\u001b[0m\u001b[1;36m8\u001b[0m\u001b[1;33m,\u001b[0m\u001b[1;36m9\u001b[0m\u001b[1;33m,\u001b[0m\u001b[1;36m10\u001b[0m\u001b[1;33m,\u001b[0m\u001b[1;36m11\u001b[0m\u001b[1;33m,\u001b[0m\u001b[1;36m12\u001b[0m\u001b[1;33m]\u001b[0m\u001b[1;33m\u001b[0m\u001b[1;33m\u001b[0m\u001b[0m\n\u001b[0;32m     10\u001b[0m \u001b[1;31m#state_data.sort_values(\"month\")\u001b[0m\u001b[1;33m\u001b[0m\u001b[1;33m\u001b[0m\u001b[1;33m\u001b[0m\u001b[0m\n\u001b[1;32m---> 11\u001b[1;33m state_data_ordered= pd.Categorical(state_data['month'].month.apply(mapper),\n\u001b[0m\u001b[0;32m     12\u001b[0m                \u001b[0mcategories\u001b[0m\u001b[1;33m=\u001b[0m\u001b[0mmonth_list\u001b[0m\u001b[1;33m,\u001b[0m\u001b[1;33m\u001b[0m\u001b[1;33m\u001b[0m\u001b[0m\n\u001b[0;32m     13\u001b[0m                ordered=True)\n",
      "\u001b[1;32m~\\anaconda3\\envs\\PythonData\\lib\\site-packages\\pandas\\core\\generic.py\u001b[0m in \u001b[0;36m__getattr__\u001b[1;34m(self, name)\u001b[0m\n\u001b[0;32m   5272\u001b[0m             \u001b[1;32mif\u001b[0m \u001b[0mself\u001b[0m\u001b[1;33m.\u001b[0m\u001b[0m_info_axis\u001b[0m\u001b[1;33m.\u001b[0m\u001b[0m_can_hold_identifiers_and_holds_name\u001b[0m\u001b[1;33m(\u001b[0m\u001b[0mname\u001b[0m\u001b[1;33m)\u001b[0m\u001b[1;33m:\u001b[0m\u001b[1;33m\u001b[0m\u001b[1;33m\u001b[0m\u001b[0m\n\u001b[0;32m   5273\u001b[0m                 \u001b[1;32mreturn\u001b[0m \u001b[0mself\u001b[0m\u001b[1;33m[\u001b[0m\u001b[0mname\u001b[0m\u001b[1;33m]\u001b[0m\u001b[1;33m\u001b[0m\u001b[1;33m\u001b[0m\u001b[0m\n\u001b[1;32m-> 5274\u001b[1;33m             \u001b[1;32mreturn\u001b[0m \u001b[0mobject\u001b[0m\u001b[1;33m.\u001b[0m\u001b[0m__getattribute__\u001b[0m\u001b[1;33m(\u001b[0m\u001b[0mself\u001b[0m\u001b[1;33m,\u001b[0m \u001b[0mname\u001b[0m\u001b[1;33m)\u001b[0m\u001b[1;33m\u001b[0m\u001b[1;33m\u001b[0m\u001b[0m\n\u001b[0m\u001b[0;32m   5275\u001b[0m \u001b[1;33m\u001b[0m\u001b[0m\n\u001b[0;32m   5276\u001b[0m     \u001b[1;32mdef\u001b[0m \u001b[0m__setattr__\u001b[0m\u001b[1;33m(\u001b[0m\u001b[0mself\u001b[0m\u001b[1;33m,\u001b[0m \u001b[0mname\u001b[0m\u001b[1;33m:\u001b[0m \u001b[0mstr\u001b[0m\u001b[1;33m,\u001b[0m \u001b[0mvalue\u001b[0m\u001b[1;33m)\u001b[0m \u001b[1;33m->\u001b[0m \u001b[1;32mNone\u001b[0m\u001b[1;33m:\u001b[0m\u001b[1;33m\u001b[0m\u001b[1;33m\u001b[0m\u001b[0m\n",
      "\u001b[1;31mAttributeError\u001b[0m: 'Series' object has no attribute 'month'"
     ]
    }
   ],
   "source": [
    "state_data = reduced_data[( reduced_data[\"state\"] == \"NJ\")]\n",
    "        \n",
    "                          #state_data_gb = state_data.groupby([\"state\", \"infected\"])\n",
    "\n",
    "       # state_data_df = state_data_gb[\"infected\"].sum().to_frame()\n",
    "state_data.head(10)\n",
    "month_list = [\"January\", \"February\", \"March\", \"April\", \"May\", \"June\", \n",
    "          \"July\", \"August\", \"September\", \"October\", \"November\", \"December\"]\n",
    "month_num = [1,2,3,4,5,6,7,8,9,10,11,12]\n",
    "#state_data.sort_values(\"month\")\n",
    "state_data_ordered= pd.Categorical(state_data['month'].month.apply(mapper),\n",
    "               categories=month_list,\n",
    "               ordered=True)\n",
    "state_data_ordered"
   ]
  },
  {
   "cell_type": "code",
   "execution_count": null,
   "metadata": {},
   "outputs": [],
   "source": []
  },
  {
   "cell_type": "code",
   "execution_count": 10,
   "metadata": {},
   "outputs": [
    {
     "data": {
      "image/png": "[encoded data removed]",
      "text/plain": [
       "<Figure size 432x288 with 1 Axes>"
      ]
     },
     "metadata": {
      "needs_background": "light"
     },
     "output_type": "display_data"
    }
   ],
   "source": [
    "infected_values = corrected_data_df[\"Total Tested\"]\n",
    "flights_values = corrected_data_df[\"Number of Flights\"]\n",
    "(slope, intercept, rvalue, pvalue, stderr) = linregress(infected_values, flights_values)\n",
    "regress_values = infected_values * slope + intercept\n",
    "line_eq = \"y = \" + str(round(slope,2)) + \"x + \" + str(round(intercept,2))\n",
    "plt.scatter(infected_values,flights_values)\n",
    "\n",
    "\n",
    "plt.plot(infected_values,regress_values,\"r-\")\n",
    "plt.annotate(line_eq,(200000,2000),fontsize=15,color=\"red\")\n",
    "plt.xlabel('Infected')\n",
    "plt.ylabel('Fight Landed')\n",
    "plt.show()"
   ]
  },
  {
   "cell_type": "code",
   "execution_count": 24,
   "metadata": {},
   "outputs": [
    {
     "name": "stdout",
     "output_type": "stream",
     "text": [
      "(0.006163514872813001, 0.8114815531474738)\n"
     ]
    }
   ],
   "source": [
    "correlation = st.pearsonr(corrected_data_df[\"Total Tested\"], corrected_data_df[\"Number of Flights\"])\n",
    "print(correlation)"
   ]
  },
  {
   "cell_type": "code",
   "execution_count": null,
   "metadata": {},
   "outputs": [],
   "source": []
  }
 ],
 "metadata": {
  "kernelspec": {
   "display_name": "Python 3",
   "language": "python",
   "name": "python3"
  },
  "language_info": {
   "codemirror_mode": {
    "name": "ipython",
    "version": 3
   },
   "file_extension": ".py",
   "mimetype": "text/x-python",
   "name": "python",
   "nbconvert_exporter": "python",
   "pygments_lexer": "ipython3",
   "version": "3.6.10"
  }
 },
 "nbformat": 4,
 "nbformat_minor": 4
}
