{
 "cells": [
  {
   "cell_type": "code",
   "execution_count": 8,
   "metadata": {},
   "outputs": [],
   "source": [
    "#Dependencies\n",
    "import pandas as pd\n",
    "import requests\n",
    "import json"
   ]
  },
  {
   "cell_type": "code",
   "execution_count": 9,
   "metadata": {},
   "outputs": [
    {
     "name": "stdout",
     "output_type": "stream",
     "text": [
      "{\"date\": 20200501, \"state\": \"CA\", \"positive\": 50442, \"probableCases\": null, \"negative\": 604543, \"pending\": null, \"totalTestResultsSource\": \"totalTestsViral\", \"totalTestResults\": 654985, \"hospitalizedCurrently\": 4706, \"hospitalizedCumulative\": null, \"inIcuCurrently\": 1434, \"inIcuCumulative\": null, \"onVentilatorCurrently\": null, \"onVentilatorCumulative\": null, \"recovered\": null, \"dataQualityGrade\": \"B\", \"lastUpdateEt\": \"4/30/2020 00:00\", \"dateModified\": \"2020-04-30T00:00:00Z\", \"checkTimeEt\": \"04/29 20:00\", \"death\": 2073, \"hospitalized\": null, \"dateChecked\": \"2020-04-30T00:00:00Z\", \"totalTestsViral\": 654985, \"positiveTestsViral\": null, \"negativeTestsViral\": null, \"positiveCasesViral\": 50442, \"deathConfirmed\": null, \"deathProbable\": null, \"totalTestEncountersViral\": null, \"totalTestsPeopleViral\": null, \"totalTestsAntibody\": null, \"positiveTestsAntibody\": null, \"negativeTestsAntibody\": null, \"totalTestsPeopleAntibody\": null, \"positiveTestsPeopleAntibody\": null, \"negativeTestsPeopleAntibody\": null, \"totalTestsPeopleAntigen\": null, \"positiveTestsPeopleAntigen\": null, \"totalTestsAntigen\": null, \"positiveTestsAntigen\": null, \"fips\": \"06\", \"positiveIncrease\": 1525, \"negativeIncrease\": 28123, \"total\": 654985, \"totalTestResultsIncrease\": 29648, \"posNeg\": 654985, \"deathIncrease\": 91, \"hospitalizedIncrease\": 0, \"hash\": \"bb9b2dbd60936dcf4ccde061365befd4feac390d\", \"commercialScore\": 0, \"negativeRegularScore\": 0, \"negativeScore\": 0, \"positiveScore\": 0, \"score\": 0, \"grade\": \"\"}\n"
     ]
    }
   ],
   "source": [
    "#Make a test API Call \n",
    "\n",
    "base_url = \"https://api.covidtracking.com/v1/states/ca/20200501.json\"\n",
    "response = requests.get(base_url).json()\n",
    "\n",
    "print(json.dumps(response))"
   ]
  },
  {
   "cell_type": "code",
   "execution_count": null,
   "metadata": {},
   "outputs": [],
   "source": []
  }
 ],
 "metadata": {
  "kernelspec": {
   "display_name": "Python 3",
   "language": "python",
   "name": "python3"
  },
  "language_info": {
   "codemirror_mode": {
    "name": "ipython",
    "version": 3
   },
   "file_extension": ".py",
   "mimetype": "text/x-python",
   "name": "python",
   "nbconvert_exporter": "python",
   "pygments_lexer": "ipython3",
   "version": "3.6.10"
  }
 },
 "nbformat": 4,
 "nbformat_minor": 4
}
