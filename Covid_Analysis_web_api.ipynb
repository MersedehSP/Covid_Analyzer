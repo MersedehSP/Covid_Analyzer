{
 "cells": [
  {
   "cell_type": "code",
   "execution_count": 1,
   "metadata": {},
   "outputs": [],
   "source": [
    "#Dependencies\n",
    "import pandas as pd\n",
    "import requests\n",
    "import json\n",
    "from config import api_key"
   ]
  },
  {
   "cell_type": "code",
   "execution_count": 2,
   "metadata": {
    "scrolled": true
   },
   "outputs": [
    {
     "data": {
      "text/html": [
       "<div>\n",
       "<style scoped>\n",
       "    .dataframe tbody tr th:only-of-type {\n",
       "        vertical-align: middle;\n",
       "    }\n",
       "\n",
       "    .dataframe tbody tr th {\n",
       "        vertical-align: top;\n",
       "    }\n",
       "\n",
       "    .dataframe thead th {\n",
       "        text-align: right;\n",
       "    }\n",
       "</style>\n",
       "<table border=\"1\" class=\"dataframe\">\n",
       "  <thead>\n",
       "    <tr style=\"text-align: right;\">\n",
       "      <th></th>\n",
       "      <th>date</th>\n",
       "      <th>state</th>\n",
       "      <th>positive</th>\n",
       "    </tr>\n",
       "  </thead>\n",
       "  <tbody>\n",
       "    <tr>\n",
       "      <th>0</th>\n",
       "      <td>20201018</td>\n",
       "      <td>AK</td>\n",
       "      <td>12016.0</td>\n",
       "    </tr>\n",
       "    <tr>\n",
       "      <th>1</th>\n",
       "      <td>20201018</td>\n",
       "      <td>AL</td>\n",
       "      <td>172626.0</td>\n",
       "    </tr>\n",
       "    <tr>\n",
       "      <th>2</th>\n",
       "      <td>20201018</td>\n",
       "      <td>AR</td>\n",
       "      <td>99066.0</td>\n",
       "    </tr>\n",
       "    <tr>\n",
       "      <th>3</th>\n",
       "      <td>20201018</td>\n",
       "      <td>AS</td>\n",
       "      <td>0.0</td>\n",
       "    </tr>\n",
       "    <tr>\n",
       "      <th>4</th>\n",
       "      <td>20201018</td>\n",
       "      <td>AZ</td>\n",
       "      <td>231149.0</td>\n",
       "    </tr>\n",
       "  </tbody>\n",
       "</table>\n",
       "</div>"
      ],
      "text/plain": [
       "       date state  positive\n",
       "0  20201018    AK   12016.0\n",
       "1  20201018    AL  172626.0\n",
       "2  20201018    AR   99066.0\n",
       "3  20201018    AS       0.0\n",
       "4  20201018    AZ  231149.0"
      ]
     },
     "execution_count": 2,
     "metadata": {},
     "output_type": "execute_result"
    }
   ],
   "source": [
    "# API Call for covid data \n",
    "covid_base_url = \"https://api.covidtracking.com/v1/states/daily.json\"\n",
    "response = requests.get(covid_base_url).json()\n",
    "\n",
    "#print(json.dumps(response, indent=4))\n",
    "\n",
    "# pull the data from a source df to a target df by creating a new df\n",
    "\n",
    "covid_df = pd.DataFrame(response, columns=['date', 'state', 'positive'])\n",
    "covid_df.head()"
   ]
  },
  {
   "cell_type": "code",
   "execution_count": 3,
   "metadata": {},
   "outputs": [
    {
     "data": {
      "text/plain": [
       "'http://api.aviationstack.com/v1/flights?access_key=be7203e2f821e5f449a2c4c112b27df9&'"
      ]
     },
     "execution_count": 3,
     "metadata": {},
     "output_type": "execute_result"
    }
   ],
   "source": [
    "url = f\"http://api.aviationstack.com/v1/flights?access_key={api_key}&\"\n",
    "url"
   ]
  },
  {
   "cell_type": "code",
   "execution_count": 4,
   "metadata": {},
   "outputs": [
    {
     "data": {
      "text/html": [
       "<div>\n",
       "<style scoped>\n",
       "    .dataframe tbody tr th:only-of-type {\n",
       "        vertical-align: middle;\n",
       "    }\n",
       "\n",
       "    .dataframe tbody tr th {\n",
       "        vertical-align: top;\n",
       "    }\n",
       "\n",
       "    .dataframe thead th {\n",
       "        text-align: right;\n",
       "    }\n",
       "</style>\n",
       "<table border=\"1\" class=\"dataframe\">\n",
       "  <thead>\n",
       "    <tr style=\"text-align: right;\">\n",
       "      <th></th>\n",
       "      <th>Flight Date</th>\n",
       "      <th>State</th>\n",
       "      <th>IATA</th>\n",
       "      <th>Total Landed Flights</th>\n",
       "    </tr>\n",
       "  </thead>\n",
       "  <tbody>\n",
       "    <tr>\n",
       "      <th>0</th>\n",
       "      <td>2020-10-01</td>\n",
       "      <td>New York</td>\n",
       "      <td>JFK</td>\n",
       "      <td>840</td>\n",
       "    </tr>\n",
       "    <tr>\n",
       "      <th>1</th>\n",
       "      <td>2020-10-01</td>\n",
       "      <td>Los Angeles</td>\n",
       "      <td>SAN</td>\n",
       "      <td>210</td>\n",
       "    </tr>\n",
       "    <tr>\n",
       "      <th>2</th>\n",
       "      <td>2020-10-02</td>\n",
       "      <td>New York</td>\n",
       "      <td>JFK</td>\n",
       "      <td>821</td>\n",
       "    </tr>\n",
       "    <tr>\n",
       "      <th>3</th>\n",
       "      <td>2020-10-02</td>\n",
       "      <td>Los Angeles</td>\n",
       "      <td>SAN</td>\n",
       "      <td>206</td>\n",
       "    </tr>\n",
       "    <tr>\n",
       "      <th>4</th>\n",
       "      <td>2020-10-03</td>\n",
       "      <td>New York</td>\n",
       "      <td>JFK</td>\n",
       "      <td>744</td>\n",
       "    </tr>\n",
       "    <tr>\n",
       "      <th>5</th>\n",
       "      <td>2020-10-03</td>\n",
       "      <td>Los Angeles</td>\n",
       "      <td>SAN</td>\n",
       "      <td>192</td>\n",
       "    </tr>\n",
       "  </tbody>\n",
       "</table>\n",
       "</div>"
      ],
      "text/plain": [
       "  Flight Date        State IATA  Total Landed Flights\n",
       "0  2020-10-01     New York  JFK                   840\n",
       "1  2020-10-01  Los Angeles  SAN                   210\n",
       "2  2020-10-02     New York  JFK                   821\n",
       "3  2020-10-02  Los Angeles  SAN                   206\n",
       "4  2020-10-03     New York  JFK                   744\n",
       "5  2020-10-03  Los Angeles  SAN                   192"
      ]
     },
     "execution_count": 4,
     "metadata": {},
     "output_type": "execute_result"
    }
   ],
   "source": [
    "# API Call for flights data \n",
    "\n",
    "url = f\"http://api.aviationstack.com/v1/flights?access_key={api_key}&\"\n",
    "query_date = ['2020-10-01','2020-10-02','2020-10-03' ]\n",
    "query_iata = ['JFK', 'SAN']\n",
    "value_list = []\n",
    "\n",
    "for q_date in query_date:\n",
    "    for q_iata in query_iata:\n",
    "        flights_base_url = f\"{url}flight_date={q_date}&arr_iata={q_iata}&flight_status=landed&limit=1\"\n",
    "        flights_response = requests.get(flights_base_url).json()\n",
    "        landed_flights = flights_response['pagination']['total']\n",
    "        state = flights_response['data'][0]['arrival']['timezone']\n",
    "        state = state.split('/')[1]\n",
    "        state = state.replace('_', ' ')\n",
    "       \n",
    "        value_list.append({'Flight Date': q_date, 'State': state, 'IATA':q_iata, 'Total Landed Flights': landed_flights})\n",
    "        \n",
    "flights_df = pd.DataFrame(value_list)   \n",
    "flights_df\n"
   ]
  },
  {
   "cell_type": "code",
   "execution_count": null,
   "metadata": {},
   "outputs": [],
   "source": []
  }
 ],
 "metadata": {
  "kernelspec": {
   "display_name": "Python 3",
   "language": "python",
   "name": "python3"
  },
  "language_info": {
   "codemirror_mode": {
    "name": "ipython",
    "version": 3
   },
   "file_extension": ".py",
   "mimetype": "text/x-python",
   "name": "python",
   "nbconvert_exporter": "python",
   "pygments_lexer": "ipython3",
   "version": "3.6.10"
  }
 },
 "nbformat": 4,
 "nbformat_minor": 4
}
