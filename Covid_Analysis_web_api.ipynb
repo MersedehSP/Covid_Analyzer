{
 "cells": [
  {
   "cell_type": "code",
   "execution_count": 8,
   "metadata": {},
   "outputs": [],
   "source": [
    "#Dependencies\n",
    "import pandas as pd\n",
    "import requests\n",
    "import json"
   ]
  },
  {
   "cell_type": "code",
   "execution_count": null,
   "metadata": {},
   "outputs": [],
   "source": [
    "# Get user input for the data that the user wants to research\n",
    "#Nationwide or Statewide\n",
    "data_input = \"Nationwide\"\n",
    "\n"
   ]
  },
  {
   "cell_type": "code",
   "execution_count": null,
   "metadata": {},
   "outputs": [],
   "source": [
    "historic_US_values_URL = \"https://api.covidtracking.com/v1/us/daily.json\"\n",
    "statewide_URL = base_url = f\"https://api.covidtracking.com/v1/states/{state}/{date}.json\""
   ]
  },
  {
   "cell_type": "code",
   "execution_count": null,
   "metadata": {},
   "outputs": [],
   "source": [
    "if data_input == \"Nationwide\":\n",
    "    print('User chose Nationwide')\n",
    "    base_url = historic_US_values_URL\n",
    "elif data_input == \"statewide\":\n",
    "    print('User chose statewide')\n",
    "    base_url = statewide_URL"
   ]
  },
  {
   "cell_type": "code",
   "execution_count": 10,
   "metadata": {},
   "outputs": [],
   "source": [
    "state = \"ca\"\n",
    "date = \"20201001\"\n"
   ]
  },
  {
   "cell_type": "code",
   "execution_count": 11,
   "metadata": {},
   "outputs": [
    {
     "name": "stdout",
     "output_type": "stream",
     "text": [
      "{\"date\": 20201001, \"state\": \"CA\", \"positive\": 813687, \"probableCases\": null, \"negative\": 13958164, \"pending\": null, \"totalTestResultsSource\": \"totalTestsViral\", \"totalTestResults\": 14771851, \"hospitalizedCurrently\": 3205, \"hospitalizedCumulative\": null, \"inIcuCurrently\": 817, \"inIcuCumulative\": null, \"onVentilatorCurrently\": null, \"onVentilatorCumulative\": null, \"recovered\": null, \"dataQualityGrade\": \"B\", \"lastUpdateEt\": \"10/1/2020 02:59\", \"dateModified\": \"2020-10-01T02:59:00Z\", \"checkTimeEt\": \"09/30 22:59\", \"death\": 15888, \"hospitalized\": null, \"dateChecked\": \"2020-10-01T02:59:00Z\", \"totalTestsViral\": 14771851, \"positiveTestsViral\": null, \"negativeTestsViral\": null, \"positiveCasesViral\": 813687, \"deathConfirmed\": null, \"deathProbable\": null, \"totalTestEncountersViral\": null, \"totalTestsPeopleViral\": null, \"totalTestsAntibody\": null, \"positiveTestsAntibody\": null, \"negativeTestsAntibody\": null, \"totalTestsPeopleAntibody\": null, \"positiveTestsPeopleAntibody\": null, \"negativeTestsPeopleAntibody\": null, \"totalTestsPeopleAntigen\": null, \"positiveTestsPeopleAntigen\": null, \"totalTestsAntigen\": null, \"positiveTestsAntigen\": null, \"fips\": \"06\", \"positiveIncrease\": 3062, \"negativeIncrease\": 63587, \"total\": 14771851, \"totalTestResultsIncrease\": 66649, \"posNeg\": 14771851, \"deathIncrease\": 96, \"hospitalizedIncrease\": 0, \"hash\": \"6389a23c4998552b3de0b6938e2ac96bc1174d6d\", \"commercialScore\": 0, \"negativeRegularScore\": 0, \"negativeScore\": 0, \"positiveScore\": 0, \"score\": 0, \"grade\": \"\"}\n"
     ]
    }
   ],
   "source": [
    "#Make a test API Call \n",
    "\n",
    "\n",
    "response = requests.get(base_url).json()\n",
    "\n",
    "print(json.dumps(response))"
   ]
  },
  {
   "cell_type": "code",
   "execution_count": null,
   "metadata": {},
   "outputs": [],
   "source": []
  }
 ],
 "metadata": {
  "kernelspec": {
   "display_name": "Python 3",
   "language": "python",
   "name": "python3"
  },
  "language_info": {
   "codemirror_mode": {
    "name": "ipython",
    "version": 3
   },
   "file_extension": ".py",
   "mimetype": "text/x-python",
   "name": "python",
   "nbconvert_exporter": "python",
   "pygments_lexer": "ipython3",
   "version": "3.6.10"
  }
 },
 "nbformat": 4,
 "nbformat_minor": 4
}
