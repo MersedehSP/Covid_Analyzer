{
 "cells": [
  {
   "cell_type": "code",
   "execution_count": 47,
   "metadata": {},
   "outputs": [],
   "source": [
    "#Dependencies\n",
    "import pandas as pd\n",
    "import requests\n",
    "import json\n",
    "import matplotlib.pyplot as plt\n",
    "from scipy import stats\n",
    "import datetime\n",
    "import numpy as np\n",
    "import scipy.stats as st"
   ]
  },
  {
   "cell_type": "code",
   "execution_count": 48,
   "metadata": {},
   "outputs": [
    {
     "data": {
      "text/html": [
       "<div>\n",
       "<style scoped>\n",
       "    .dataframe tbody tr th:only-of-type {\n",
       "        vertical-align: middle;\n",
       "    }\n",
       "\n",
       "    .dataframe tbody tr th {\n",
       "        vertical-align: top;\n",
       "    }\n",
       "\n",
       "    .dataframe thead th {\n",
       "        text-align: right;\n",
       "    }\n",
       "</style>\n",
       "<table border=\"1\" class=\"dataframe\">\n",
       "  <thead>\n",
       "    <tr style=\"text-align: right;\">\n",
       "      <th></th>\n",
       "      <th>Date</th>\n",
       "      <th>Month Abbr</th>\n",
       "      <th>State</th>\n",
       "      <th>Number of Flights</th>\n",
       "      <th>Positive</th>\n",
       "      <th>Daily Positve Increase</th>\n",
       "      <th>Deaths</th>\n",
       "      <th>Daily Death Increase</th>\n",
       "      <th>Total Tested</th>\n",
       "      <th>Daily Test Increase</th>\n",
       "    </tr>\n",
       "  </thead>\n",
       "  <tbody>\n",
       "    <tr>\n",
       "      <th>0</th>\n",
       "      <td>2020-08-24</td>\n",
       "      <td>Aug</td>\n",
       "      <td>Arizona</td>\n",
       "      <td>494</td>\n",
       "      <td>198414</td>\n",
       "      <td>311</td>\n",
       "      <td>4771</td>\n",
       "      <td>0</td>\n",
       "      <td>1155629</td>\n",
       "      <td>6342</td>\n",
       "    </tr>\n",
       "    <tr>\n",
       "      <th>1</th>\n",
       "      <td>2020-08-24</td>\n",
       "      <td>Aug</td>\n",
       "      <td>California</td>\n",
       "      <td>1998</td>\n",
       "      <td>668615</td>\n",
       "      <td>4946</td>\n",
       "      <td>12152</td>\n",
       "      <td>18</td>\n",
       "      <td>10652487</td>\n",
       "      <td>111456</td>\n",
       "    </tr>\n",
       "    <tr>\n",
       "      <th>2</th>\n",
       "      <td>2020-08-24</td>\n",
       "      <td>Aug</td>\n",
       "      <td>Colorado</td>\n",
       "      <td>941</td>\n",
       "      <td>55143</td>\n",
       "      <td>260</td>\n",
       "      <td>1815</td>\n",
       "      <td>0</td>\n",
       "      <td>938596</td>\n",
       "      <td>8444</td>\n",
       "    </tr>\n",
       "    <tr>\n",
       "      <th>3</th>\n",
       "      <td>2020-08-24</td>\n",
       "      <td>Aug</td>\n",
       "      <td>Florida</td>\n",
       "      <td>917</td>\n",
       "      <td>602829</td>\n",
       "      <td>2258</td>\n",
       "      <td>10534</td>\n",
       "      <td>72</td>\n",
       "      <td>4447156</td>\n",
       "      <td>18523</td>\n",
       "    </tr>\n",
       "    <tr>\n",
       "      <th>4</th>\n",
       "      <td>2020-08-24</td>\n",
       "      <td>Aug</td>\n",
       "      <td>Georgia</td>\n",
       "      <td>2166</td>\n",
       "      <td>256253</td>\n",
       "      <td>2304</td>\n",
       "      <td>5156</td>\n",
       "      <td>24</td>\n",
       "      <td>2205181</td>\n",
       "      <td>33297</td>\n",
       "    </tr>\n",
       "  </tbody>\n",
       "</table>\n",
       "</div>"
      ],
      "text/plain": [
       "         Date Month Abbr       State  Number of Flights  Positive  \\\n",
       "0  2020-08-24        Aug     Arizona                494    198414   \n",
       "1  2020-08-24        Aug  California               1998    668615   \n",
       "2  2020-08-24        Aug    Colorado                941     55143   \n",
       "3  2020-08-24        Aug     Florida                917    602829   \n",
       "4  2020-08-24        Aug     Georgia               2166    256253   \n",
       "\n",
       "   Daily Positve Increase  Deaths  Daily Death Increase  Total Tested  \\\n",
       "0                     311    4771                     0       1155629   \n",
       "1                    4946   12152                    18      10652487   \n",
       "2                     260    1815                     0        938596   \n",
       "3                    2258   10534                    72       4447156   \n",
       "4                    2304    5156                    24       2205181   \n",
       "\n",
       "   Daily Test Increase  \n",
       "0                 6342  \n",
       "1               111456  \n",
       "2                 8444  \n",
       "3                18523  \n",
       "4                33297  "
      ]
     },
     "execution_count": 48,
     "metadata": {},
     "output_type": "execute_result"
    }
   ],
   "source": [
    "data_path = \"Resources/FullDataSet.csv\"\n",
    "\n",
    "data_df = pd.read_csv(data_path)\n",
    "data_df.head()"
   ]
  },
  {
   "cell_type": "code",
   "execution_count": 49,
   "metadata": {},
   "outputs": [
    {
     "data": {
      "text/html": [
       "<div>\n",
       "<style scoped>\n",
       "    .dataframe tbody tr th:only-of-type {\n",
       "        vertical-align: middle;\n",
       "    }\n",
       "\n",
       "    .dataframe tbody tr th {\n",
       "        vertical-align: top;\n",
       "    }\n",
       "\n",
       "    .dataframe thead th {\n",
       "        text-align: right;\n",
       "    }\n",
       "</style>\n",
       "<table border=\"1\" class=\"dataframe\">\n",
       "  <thead>\n",
       "    <tr style=\"text-align: right;\">\n",
       "      <th></th>\n",
       "      <th>State</th>\n",
       "      <th>Number of Flights</th>\n",
       "      <th>Daily Positve Increase</th>\n",
       "      <th>Daily Death Increase</th>\n",
       "      <th>Daily Test Increase</th>\n",
       "    </tr>\n",
       "  </thead>\n",
       "  <tbody>\n",
       "    <tr>\n",
       "      <th>0</th>\n",
       "      <td>Arizona</td>\n",
       "      <td>27491</td>\n",
       "      <td>36803</td>\n",
       "      <td>1088</td>\n",
       "      <td>519275</td>\n",
       "    </tr>\n",
       "    <tr>\n",
       "      <th>1</th>\n",
       "      <td>California</td>\n",
       "      <td>107840</td>\n",
       "      <td>217055</td>\n",
       "      <td>5055</td>\n",
       "      <td>6817739</td>\n",
       "    </tr>\n",
       "    <tr>\n",
       "      <th>2</th>\n",
       "      <td>Colorado</td>\n",
       "      <td>48679</td>\n",
       "      <td>33966</td>\n",
       "      <td>251</td>\n",
       "      <td>812431</td>\n",
       "    </tr>\n",
       "    <tr>\n",
       "      <th>3</th>\n",
       "      <td>Florida</td>\n",
       "      <td>51929</td>\n",
       "      <td>167520</td>\n",
       "      <td>6008</td>\n",
       "      <td>1393306</td>\n",
       "    </tr>\n",
       "    <tr>\n",
       "      <th>4</th>\n",
       "      <td>Georgia</td>\n",
       "      <td>119609</td>\n",
       "      <td>91586</td>\n",
       "      <td>2597</td>\n",
       "      <td>1195650</td>\n",
       "    </tr>\n",
       "  </tbody>\n",
       "</table>\n",
       "</div>"
      ],
      "text/plain": [
       "        State  Number of Flights  Daily Positve Increase  \\\n",
       "0     Arizona              27491                   36803   \n",
       "1  California             107840                  217055   \n",
       "2    Colorado              48679                   33966   \n",
       "3     Florida              51929                  167520   \n",
       "4     Georgia             119609                   91586   \n",
       "\n",
       "   Daily Death Increase  Daily Test Increase  \n",
       "0                  1088               519275  \n",
       "1                  5055              6817739  \n",
       "2                   251               812431  \n",
       "3                  6008              1393306  \n",
       "4                  2597              1195650  "
      ]
     },
     "execution_count": 49,
     "metadata": {},
     "output_type": "execute_result"
    }
   ],
   "source": [
    "#group Total state metrics (no date layer)\n",
    "total_df = data_df.groupby(['State'], as_index=False)[['Number of Flights','Daily Positve Increase','Daily Death Increase','Daily Test Increase']].sum()\n",
    "total_df.head()"
   ]
  },
  {
   "cell_type": "code",
   "execution_count": 50,
   "metadata": {},
   "outputs": [
    {
     "data": {
      "image/png": "[encoded data removed]",
      "text/plain": [
       "<Figure size 576x576 with 1 Axes>"
      ]
     },
     "metadata": {
      "needs_background": "light"
     },
     "output_type": "display_data"
    }
   ],
   "source": [
    "# ScatterPlots\n",
    "total_df.plot(kind=\"scatter\", x=\"Number of Flights\", y=\"Daily Positve Increase\", grid=True, figsize=(8,8),\n",
    "              title=\"Positive Flights Vs Lands\")\n",
    "plt.show()\n"
   ]
  },
  {
   "cell_type": "code",
   "execution_count": 54,
   "metadata": {},
   "outputs": [
    {
     "data": {
      "image/png": "[encoded data removed]",
      "text/plain": [
       "<Figure size 432x288 with 1 Axes>"
      ]
     },
     "metadata": {
      "needs_background": "light"
     },
     "output_type": "display_data"
    }
   ],
   "source": [
    "flights = total_df.iloc[:,2]\n",
    "positive = total_df.iloc[:,3]\n",
    "\n",
    "fl_slope, fl_int, fl_r, fl_p, fl_std_err = stats.linregress(flights, positive)\n",
    "fl_fit = fl_slope * flights + fl_int\n",
    "\n",
    "plt.scatter(flights,positive)\n",
    "plt.plot(flights,fl_fit,\"--\")\n",
    "#plt.xticks(np.arange(min(100), max(300000)))\n",
    "plt.xlabel('Flights')\n",
    "plt.ylabel('Daily Positve Increase')\n",
    "plt.show()\n"
   ]
  },
  {
   "cell_type": "code",
   "execution_count": 55,
   "metadata": {},
   "outputs": [
    {
     "data": {
      "text/plain": [
       "<matplotlib.axes._subplots.AxesSubplot at 0x1b854b85f70>"
      ]
     },
     "execution_count": 55,
     "metadata": {},
     "output_type": "execute_result"
    },
    {
     "data": {
      "image/png": "[encoded data removed]",
      "text/plain": [
       "<Figure size 1440x720 with 1 Axes>"
      ]
     },
     "metadata": {
      "needs_background": "light"
     },
     "output_type": "display_data"
    }
   ],
   "source": [
    "#BoxPlot Positive rates by state\n",
    "data_df.boxplot(\"Daily Positve Increase\", by=\"State\", figsize=(20, 10))"
   ]
  },
  {
   "cell_type": "code",
   "execution_count": 56,
   "metadata": {},
   "outputs": [
    {
     "data": {
      "text/plain": [
       "<matplotlib.axes._subplots.AxesSubplot at 0x1b8534eb8b0>"
      ]
     },
     "execution_count": 56,
     "metadata": {},
     "output_type": "execute_result"
    },
    {
     "data": {
      "image/png": "[encoded data removed]",
      "text/plain": [
       "<Figure size 1440x720 with 1 Axes>"
      ]
     },
     "metadata": {
      "needs_background": "light"
     },
     "output_type": "display_data"
    }
   ],
   "source": [
    "#BoxPlot flights by state\n",
    "data_df.boxplot(\"Number of Flights\", by=\"State\", figsize=(20, 10))"
   ]
  },
  {
   "cell_type": "code",
   "execution_count": 38,
   "metadata": {},
   "outputs": [
    {
     "data": {
      "text/html": [
       "<div>\n",
       "<style scoped>\n",
       "    .dataframe tbody tr th:only-of-type {\n",
       "        vertical-align: middle;\n",
       "    }\n",
       "\n",
       "    .dataframe tbody tr th {\n",
       "        vertical-align: top;\n",
       "    }\n",
       "\n",
       "    .dataframe thead th {\n",
       "        text-align: right;\n",
       "    }\n",
       "</style>\n",
       "<table border=\"1\" class=\"dataframe\">\n",
       "  <thead>\n",
       "    <tr style=\"text-align: right;\">\n",
       "      <th></th>\n",
       "      <th>Number of Flights</th>\n",
       "      <th>Positive</th>\n",
       "      <th>Daily Positve Increase</th>\n",
       "      <th>Deaths</th>\n",
       "      <th>Daily Death Increase</th>\n",
       "      <th>Total Tested</th>\n",
       "      <th>Daily Test Increase</th>\n",
       "    </tr>\n",
       "  </thead>\n",
       "  <tbody>\n",
       "    <tr>\n",
       "      <th>Number of Flights</th>\n",
       "      <td>1.000000</td>\n",
       "      <td>0.649185</td>\n",
       "      <td>0.589530</td>\n",
       "      <td>0.363813</td>\n",
       "      <td>0.490967</td>\n",
       "      <td>0.511205</td>\n",
       "      <td>0.388523</td>\n",
       "    </tr>\n",
       "    <tr>\n",
       "      <th>Positive</th>\n",
       "      <td>0.649185</td>\n",
       "      <td>1.000000</td>\n",
       "      <td>0.717241</td>\n",
       "      <td>0.715332</td>\n",
       "      <td>0.684205</td>\n",
       "      <td>0.805849</td>\n",
       "      <td>0.562690</td>\n",
       "    </tr>\n",
       "    <tr>\n",
       "      <th>Daily Positve Increase</th>\n",
       "      <td>0.589530</td>\n",
       "      <td>0.717241</td>\n",
       "      <td>1.000000</td>\n",
       "      <td>0.355680</td>\n",
       "      <td>0.688944</td>\n",
       "      <td>0.511310</td>\n",
       "      <td>0.424103</td>\n",
       "    </tr>\n",
       "    <tr>\n",
       "      <th>Deaths</th>\n",
       "      <td>0.363813</td>\n",
       "      <td>0.715332</td>\n",
       "      <td>0.355680</td>\n",
       "      <td>1.000000</td>\n",
       "      <td>0.309911</td>\n",
       "      <td>0.778679</td>\n",
       "      <td>0.633943</td>\n",
       "    </tr>\n",
       "    <tr>\n",
       "      <th>Daily Death Increase</th>\n",
       "      <td>0.490967</td>\n",
       "      <td>0.684205</td>\n",
       "      <td>0.688944</td>\n",
       "      <td>0.309911</td>\n",
       "      <td>1.000000</td>\n",
       "      <td>0.395617</td>\n",
       "      <td>0.252095</td>\n",
       "    </tr>\n",
       "    <tr>\n",
       "      <th>Total Tested</th>\n",
       "      <td>0.511205</td>\n",
       "      <td>0.805849</td>\n",
       "      <td>0.511310</td>\n",
       "      <td>0.778679</td>\n",
       "      <td>0.395617</td>\n",
       "      <td>1.000000</td>\n",
       "      <td>0.816712</td>\n",
       "    </tr>\n",
       "    <tr>\n",
       "      <th>Daily Test Increase</th>\n",
       "      <td>0.388523</td>\n",
       "      <td>0.562690</td>\n",
       "      <td>0.424103</td>\n",
       "      <td>0.633943</td>\n",
       "      <td>0.252095</td>\n",
       "      <td>0.816712</td>\n",
       "      <td>1.000000</td>\n",
       "    </tr>\n",
       "  </tbody>\n",
       "</table>\n",
       "</div>"
      ],
      "text/plain": [
       "                        Number of Flights  Positive  Daily Positve Increase  \\\n",
       "Number of Flights                1.000000  0.649185                0.589530   \n",
       "Positive                         0.649185  1.000000                0.717241   \n",
       "Daily Positve Increase           0.589530  0.717241                1.000000   \n",
       "Deaths                           0.363813  0.715332                0.355680   \n",
       "Daily Death Increase             0.490967  0.684205                0.688944   \n",
       "Total Tested                     0.511205  0.805849                0.511310   \n",
       "Daily Test Increase              0.388523  0.562690                0.424103   \n",
       "\n",
       "                          Deaths  Daily Death Increase  Total Tested  \\\n",
       "Number of Flights       0.363813              0.490967      0.511205   \n",
       "Positive                0.715332              0.684205      0.805849   \n",
       "Daily Positve Increase  0.355680              0.688944      0.511310   \n",
       "Deaths                  1.000000              0.309911      0.778679   \n",
       "Daily Death Increase    0.309911              1.000000      0.395617   \n",
       "Total Tested            0.778679              0.395617      1.000000   \n",
       "Daily Test Increase     0.633943              0.252095      0.816712   \n",
       "\n",
       "                        Daily Test Increase  \n",
       "Number of Flights                  0.388523  \n",
       "Positive                           0.562690  \n",
       "Daily Positve Increase             0.424103  \n",
       "Deaths                             0.633943  \n",
       "Daily Death Increase               0.252095  \n",
       "Total Tested                       0.816712  \n",
       "Daily Test Increase                1.000000  "
      ]
     },
     "execution_count": 38,
     "metadata": {},
     "output_type": "execute_result"
    }
   ],
   "source": [
    "#correlation of entire base dataset\n",
    "data_desc = data_df.corr(method = 'pearson')\n",
    "#data_desc.unstack().sort_values()\n",
    "data_desc"
   ]
  },
  {
   "cell_type": "code",
   "execution_count": 42,
   "metadata": {},
   "outputs": [
    {
     "data": {
      "text/html": [
       "<div>\n",
       "<style scoped>\n",
       "    .dataframe tbody tr th:only-of-type {\n",
       "        vertical-align: middle;\n",
       "    }\n",
       "\n",
       "    .dataframe tbody tr th {\n",
       "        vertical-align: top;\n",
       "    }\n",
       "\n",
       "    .dataframe thead th {\n",
       "        text-align: right;\n",
       "    }\n",
       "</style>\n",
       "<table border=\"1\" class=\"dataframe\">\n",
       "  <thead>\n",
       "    <tr style=\"text-align: right;\">\n",
       "      <th></th>\n",
       "      <th>Number of Flights</th>\n",
       "      <th>Daily Positve Increase</th>\n",
       "      <th>Daily Death Increase</th>\n",
       "      <th>Daily Test Increase</th>\n",
       "    </tr>\n",
       "  </thead>\n",
       "  <tbody>\n",
       "    <tr>\n",
       "      <th>Number of Flights</th>\n",
       "      <td>1.000000</td>\n",
       "      <td>0.589530</td>\n",
       "      <td>0.490967</td>\n",
       "      <td>0.388523</td>\n",
       "    </tr>\n",
       "    <tr>\n",
       "      <th>Daily Positve Increase</th>\n",
       "      <td>0.589530</td>\n",
       "      <td>1.000000</td>\n",
       "      <td>0.688944</td>\n",
       "      <td>0.424103</td>\n",
       "    </tr>\n",
       "    <tr>\n",
       "      <th>Daily Death Increase</th>\n",
       "      <td>0.490967</td>\n",
       "      <td>0.688944</td>\n",
       "      <td>1.000000</td>\n",
       "      <td>0.252095</td>\n",
       "    </tr>\n",
       "    <tr>\n",
       "      <th>Daily Test Increase</th>\n",
       "      <td>0.388523</td>\n",
       "      <td>0.424103</td>\n",
       "      <td>0.252095</td>\n",
       "      <td>1.000000</td>\n",
       "    </tr>\n",
       "  </tbody>\n",
       "</table>\n",
       "</div>"
      ],
      "text/plain": [
       "                        Number of Flights  Daily Positve Increase  \\\n",
       "Number of Flights                1.000000                0.589530   \n",
       "Daily Positve Increase           0.589530                1.000000   \n",
       "Daily Death Increase             0.490967                0.688944   \n",
       "Daily Test Increase              0.388523                0.424103   \n",
       "\n",
       "                        Daily Death Increase  Daily Test Increase  \n",
       "Number of Flights                   0.490967             0.388523  \n",
       "Daily Positve Increase              0.688944             0.424103  \n",
       "Daily Death Increase                1.000000             0.252095  \n",
       "Daily Test Increase                 0.252095             1.000000  "
      ]
     },
     "execution_count": 42,
     "metadata": {},
     "output_type": "execute_result"
    }
   ],
   "source": [
    "#generating the correlation of the columns we actually care about\n",
    "prep_df = data_df.groupby(['State','Date'], as_index=False)[['Number of Flights','Daily Positve Increase','Daily Death Increase','Daily Test Increase']].sum()\n",
    "corr_pear = prep_df.corr(method = 'pearson')\n",
    "corr_pear"
   ]
  },
  {
   "cell_type": "code",
   "execution_count": null,
   "metadata": {},
   "outputs": [],
   "source": []
  },
  {
   "cell_type": "code",
   "execution_count": null,
   "metadata": {},
   "outputs": [],
   "source": []
  }
 ],
 "metadata": {
  "kernelspec": {
   "display_name": "Python 3",
   "language": "python",
   "name": "python3"
  },
  "language_info": {
   "codemirror_mode": {
    "name": "ipython",
    "version": 3
   },
   "file_extension": ".py",
   "mimetype": "text/x-python",
   "name": "python",
   "nbconvert_exporter": "python",
   "pygments_lexer": "ipython3",
   "version": "3.8.3"
  }
 },
 "nbformat": 4,
 "nbformat_minor": 4
}
